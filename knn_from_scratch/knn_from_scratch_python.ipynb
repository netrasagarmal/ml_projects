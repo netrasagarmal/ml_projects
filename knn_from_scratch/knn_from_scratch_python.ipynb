{
 "cells": [
  {
   "cell_type": "markdown",
   "id": "be52ba66",
   "metadata": {},
   "source": [
    "Here’s a **simple from-scratch Python implementation of K-Nearest Neighbors (KNN)** for both **classification and regression**, along with detailed step-by-step explanations for each part.\n",
    "\n",
    "We won’t use libraries like `scikit-learn` — only Python’s built-in functionality and `math` for distance calculation.\n",
    "\n",
    "---\n",
    "\n",
    "# ✅ Step-by-Step Plan\n",
    "\n",
    "We’ll build:\n",
    "\n",
    "1. A basic dataset\n",
    "2. A generic KNN class (handles both classification and regression)\n",
    "3. Distance calculation\n",
    "4. Prediction logic\n",
    "5. Classification: majority vote\n",
    "6. Regression: average of K values\n",
    "7. A test run to demonstrate usage\n",
    "\n",
    "---\n",
    "\n",
    "# 🧪 Sample Dataset"
   ]
  },
  {
   "cell_type": "code",
   "execution_count": null,
   "id": "8447df5f",
   "metadata": {},
   "outputs": [],
   "source": [
    "# Dataset: [feature1, feature2], label\n",
    "classification_data = [\n",
    "    ([1, 2], 0),\n",
    "    ([2, 3], 0),\n",
    "    ([3, 3], 1),\n",
    "    ([6, 5], 1),\n",
    "    ([7, 7], 1)\n",
    "]\n",
    "\n",
    "regression_data = [\n",
    "    ([1, 2], 10),\n",
    "    ([2, 3], 12),\n",
    "    ([3, 3], 14),\n",
    "    ([6, 5], 18),\n",
    "    ([7, 7], 22)\n",
    "]\n"
   ]
  },
  {
   "cell_type": "markdown",
   "id": "7138a5ca",
   "metadata": {},
   "source": [
    "# 🛠️ KNN Classification Implementation"
   ]
  },
  {
   "cell_type": "code",
   "execution_count": null,
   "id": "2a58a855",
   "metadata": {},
   "outputs": [],
   "source": [
    "import math\n",
    "from collections import Counter\n",
    "\n",
    "class KNN:\n",
    "    def __init__(self, k=3):\n",
    "        self.k = k\n",
    "        self.X = []\n",
    "        self.y = []\n",
    "\n",
    "    def fit(self, data):\n",
    "        # Split features and labels\n",
    "        self.X = [item[0] for item in data]\n",
    "        self.y = [item[1] for item in data]\n",
    "\n",
    "    def _euclidean_distance(self, a, b):\n",
    "        return math.sqrt(sum((ai - bi) ** 2 for ai, bi in zip(a, b)))\n",
    "\n",
    "    def _get_neighbors(self, x):\n",
    "        # Compute distance to all training points\n",
    "        distances = [(self._euclidean_distance(x, xi), yi)\n",
    "                     for xi, yi in zip(self.X, self.y)]\n",
    "        # Sort by distance and pick k nearest\n",
    "        neighbors = sorted(distances, key=lambda d: d[0])[:self.k]\n",
    "        return neighbors\n",
    "\n",
    "    def predict(self, x):\n",
    "        neighbors = self._get_neighbors(x)\n",
    "        # Extract the labels of neighbors and vote\n",
    "        labels = [label for _, label in neighbors]\n",
    "        most_common = Counter(labels).most_common(1)[0][0]\n",
    "        return most_common\n",
    "\n",
    "        "
   ]
  },
  {
   "cell_type": "markdown",
   "id": "8e3243f8",
   "metadata": {},
   "source": [
    "# 🛠️ KNN Regression Implementation"
   ]
  },
  {
   "cell_type": "code",
   "execution_count": null,
   "id": "c01499d7",
   "metadata": {},
   "outputs": [],
   "source": [
    "import math\n",
    "from collections import Counter\n",
    "\n",
    "class KNN:\n",
    "    def __init__(self, k=3):\n",
    "        self.k = k\n",
    "        self.X = []\n",
    "        self.y = []\n",
    "\n",
    "    def fit(self, data):\n",
    "        # Split features and labels\n",
    "        self.X = [item[0] for item in data]\n",
    "        self.y = [item[1] for item in data]\n",
    "\n",
    "    def _euclidean_distance(self, a, b):\n",
    "        return math.sqrt(sum((ai - bi) ** 2 for ai, bi in zip(a, b)))\n",
    "\n",
    "    def _get_neighbors(self, x):\n",
    "        # Compute distance to all training points\n",
    "        distances = [(self._euclidean_distance(x, xi), yi)\n",
    "                     for xi, yi in zip(self.X, self.y)]\n",
    "        # Sort by distance and pick k nearest\n",
    "        neighbors = sorted(distances, key=lambda d: d[0])[:self.k]\n",
    "        return neighbors\n",
    "\n",
    "    def predict(self, x):\n",
    "        neighbors = self._get_neighbors(x)\n",
    "        \n",
    "        # Extract neighbor values and compute mean\n",
    "        values = [value for _, value in neighbors]\n",
    "        return sum(values) / len(values)\n"
   ]
  },
  {
   "cell_type": "markdown",
   "id": "1e66ff44",
   "metadata": {},
   "source": [
    "# 🔍 Explanation of Each Step\n",
    "\n",
    "| Step                    | Code               | Explanation                                                             |\n",
    "| ----------------------- | ------------------ | ----------------------------------------------------------------------- |\n",
    "| `fit()`                 | Stores the dataset | KNN is lazy — it stores the entire dataset                              |\n",
    "| `_euclidean_distance()` | Computes distance  | Euclidean distance to each training point                               |\n",
    "| `_get_neighbors()`      | Finds k closest    | Sorts distances and picks top-k                                         |\n",
    "| `predict()`             | Makes a prediction | - **Classification**: majority vote<br> - **Regression**: average value |\n",
    "\n",
    "---\n",
    "\n",
    "# ✅ Test: Classification"
   ]
  },
  {
   "cell_type": "code",
   "execution_count": null,
   "id": "c15b1c6a",
   "metadata": {},
   "outputs": [],
   "source": [
    "print(\"=== Classification ===\")\n",
    "knn_cls = KNN(k=3)\n",
    "knn_cls.fit(classification_data)\n",
    "\n",
    "test_point = [4, 4]\n",
    "predicted_class = knn_cls.predict(test_point)\n",
    "print(f\"Test point: {test_point} → Predicted class: {predicted_class}\")\n"
   ]
  },
  {
   "cell_type": "markdown",
   "id": "2ba74b8c",
   "metadata": {},
   "source": [
    "### Output \n",
    "```python\n",
    "Test point: [4, 4] → Predicted class: 1\n",
    "```\n",
    "---\n",
    "\n",
    "# ✅ Test: Regression"
   ]
  },
  {
   "cell_type": "code",
   "execution_count": null,
   "id": "49c5abb8",
   "metadata": {},
   "outputs": [],
   "source": [
    "print(\"\\n=== Regression ===\")\n",
    "knn_reg = KNN(k=3)\n",
    "knn_reg.fit(regression_data)\n",
    "\n",
    "test_point = [4, 4]\n",
    "predicted_value = knn_reg.predict(test_point)\n",
    "print(f\"Test point: {test_point} → Predicted value: {predicted_value:.2f}\")\n"
   ]
  },
  {
   "cell_type": "markdown",
   "id": "80304099",
   "metadata": {},
   "source": [
    "### Output \n",
    "```python\n",
    "Test point: [4, 4] → Predicted value: 16.00\n",
    "```"
   ]
  },
  {
   "cell_type": "markdown",
   "id": "cc973e34",
   "metadata": {},
   "source": [
    "## 📌 Notes on Choosing K\n",
    "\n",
    "* **Odd values** prevent ties (in classification).\n",
    "* Try different K using **cross-validation**.\n",
    "* Plot accuracy (classification) or MSE (regression) vs. K to find best."
   ]
  },
  {
   "cell_type": "markdown",
   "id": "d8007894",
   "metadata": {},
   "source": [
    "Let’s now implement **K-Nearest Neighbors (KNN)** from scratch using **NumPy**, which makes operations cleaner and faster thanks to vectorization.\n",
    "\n",
    "We'll build:\n",
    "\n",
    "* A simple dataset\n",
    "* A `KNN` class supporting both **classification** and **regression**\n",
    "* Euclidean distance using NumPy\n",
    "* Prediction logic using vectorized operations\n",
    "\n",
    "---\n",
    "\n",
    "## ✅ Step-by-Step KNN from Scratch (Using NumPy)"
   ]
  },
  {
   "cell_type": "code",
   "execution_count": null,
   "id": "6e0927de",
   "metadata": {},
   "outputs": [],
   "source": [
    "import numpy as np\n",
    "from collections import Counter\n",
    "\n",
    "class KNN:\n",
    "    def __init__(self, k=3, task='classification'):\n",
    "        self.k = k\n",
    "        self.task = task\n",
    "        self.X_train = None\n",
    "        self.y_train = None\n",
    "\n",
    "    def fit(self, X, y):\n",
    "        self.X_train = np.array(X)\n",
    "        self.y_train = np.array(y)\n",
    "\n",
    "    def _euclidean_distance(self, x1):\n",
    "        # Broadcasted distance to all training points\n",
    "        return np.sqrt(np.sum((self.X_train - x1) ** 2, axis=1))\n",
    "\n",
    "    def predict(self, X_test):\n",
    "        X_test = np.array(X_test)\n",
    "        predictions = []\n",
    "\n",
    "        for x in X_test:\n",
    "            distances = self._euclidean_distance(x)\n",
    "\n",
    "            # Get indices of k nearest neighbors\n",
    "            k_indices = distances.argsort()[:self.k]\n",
    "            k_labels = self.y_train[k_indices]\n",
    "\n",
    "            if self.task == 'classification':\n",
    "                # Majority vote\n",
    "                label = Counter(k_labels).most_common(1)[0][0]\n",
    "            elif self.task == 'regression':\n",
    "                # Mean of neighbors\n",
    "                label = np.mean(k_labels)\n",
    "\n",
    "            predictions.append(label)\n",
    "\n",
    "        return np.array(predictions)\n"
   ]
  },
  {
   "cell_type": "markdown",
   "id": "1075abec",
   "metadata": {},
   "source": [
    "## 🔍 Step-by-Step Explanation\n",
    "\n",
    "| Step                      | Description                                                                                                                                   |\n",
    "| ------------------------- | --------------------------------------------------------------------------------------------------------------------------------------------- |\n",
    "| `fit()`                   | Stores training data as NumPy arrays                                                                                                          |\n",
    "| `_euclidean_distance(x1)` | Computes distance from `x1` to all training points using broadcasting                                                                         |\n",
    "| `predict(X_test)`         | For each test point:<br>1. Compute distances<br>2. Get `k` nearest neighbors<br>3. Use majority vote (classification) or average (regression) |\n",
    "\n",
    "---\n",
    "\n",
    "## 🧪 Example: Classification"
   ]
  },
  {
   "cell_type": "code",
   "execution_count": null,
   "id": "0fd633d7",
   "metadata": {},
   "outputs": [],
   "source": [
    "# Classification dataset\n",
    "X_cls = [[1, 2], [2, 3], [3, 3], [6, 5], [7, 7]]\n",
    "y_cls = [0, 0, 1, 1, 1]\n",
    "\n",
    "knn_cls = KNN(k=3, task='classification')\n",
    "knn_cls.fit(X_cls, y_cls)\n",
    "\n",
    "X_test = [[4, 4]]\n",
    "pred = knn_cls.predict(X_test)\n",
    "print(f\"Classification prediction: {pred[0]}\")"
   ]
  },
  {
   "cell_type": "markdown",
   "id": "6d3afebb",
   "metadata": {},
   "source": [
    "## 🧪 Example: Regression"
   ]
  },
  {
   "cell_type": "code",
   "execution_count": null,
   "id": "b01b4912",
   "metadata": {},
   "outputs": [],
   "source": [
    "# Regression dataset\n",
    "X_reg = [[1, 2], [2, 3], [3, 3], [6, 5], [7, 7]]\n",
    "y_reg = [10, 12, 14, 18, 22]\n",
    "\n",
    "knn_reg = KNN(k=3, task='regression')\n",
    "knn_reg.fit(X_reg, y_reg)\n",
    "\n",
    "X_test = [[4, 4]]\n",
    "pred = knn_reg.predict(X_test)\n",
    "print(f\"Regression prediction: {pred[0]:.2f}\")"
   ]
  },
  {
   "cell_type": "markdown",
   "id": "e99843b3",
   "metadata": {},
   "source": [
    "## ✅ Output (example):"
   ]
  },
  {
   "cell_type": "markdown",
   "id": "612b48c6",
   "metadata": {},
   "source": [
    "```\n",
    "Classification prediction: 1\n",
    "Regression prediction: 16.00\n",
    "```"
   ]
  }
 ],
 "metadata": {
  "language_info": {
   "name": "python"
  }
 },
 "nbformat": 4,
 "nbformat_minor": 5
}
