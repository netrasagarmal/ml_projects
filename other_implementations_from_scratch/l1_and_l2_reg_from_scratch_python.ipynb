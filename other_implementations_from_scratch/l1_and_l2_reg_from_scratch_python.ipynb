{
 "cells": [
  {
   "cell_type": "markdown",
   "id": "dff3330b",
   "metadata": {},
   "source": [
    "## 🧠 What Are L1 and L2 Regularization?\n",
    "\n",
    "They are **penalty terms** added to the loss function to discourage overfitting:\n",
    "\n",
    "### 🔹 L1 Regularization (Lasso)\n",
    "\n",
    "$$\n",
    "L1 = \\lambda \\sum_i |w_i|\n",
    "$$\n",
    "\n",
    "* Promotes sparsity (drives some weights to exactly zero).\n",
    "\n",
    "### 🔹 L2 Regularization (Ridge)\n",
    "\n",
    "$$\n",
    "L2 = \\lambda \\sum_i w_i^2\n",
    "$$\n",
    "\n",
    "* Shrinks weights smoothly, but doesn’t zero them out.\n",
    "\n",
    "---\n",
    "\n",
    "## ✅ L1 and L2 Regularization Functions in NumPy"
   ]
  },
  {
   "cell_type": "code",
   "execution_count": 4,
   "id": "74e1bd1c",
   "metadata": {},
   "outputs": [],
   "source": [
    "import numpy as np\n",
    "\n",
    "def l1_regularization(weights, lambda_):\n",
    "    \"\"\"\n",
    "    Compute L1 regularization term.\n",
    "    \n",
    "    Parameters:\n",
    "        weights (ndarray): Model weights\n",
    "        lambda_ (float): Regularization strength\n",
    "    \n",
    "    Returns:\n",
    "        float: L1 penalty term\n",
    "    \"\"\"\n",
    "    return lambda_ * np.sum(np.abs(weights))\n",
    "\n",
    "\n",
    "def l2_regularization(weights, lambda_):\n",
    "    \"\"\"\n",
    "    Compute L2 regularization term.\n",
    "    \n",
    "    Parameters:\n",
    "        weights (ndarray): Model weights\n",
    "        lambda_ (float): Regularization strength\n",
    "    \n",
    "    Returns:\n",
    "        float: L2 penalty term\n",
    "    \"\"\"\n",
    "    return lambda_ * np.sum(weights ** 2)"
   ]
  },
  {
   "cell_type": "markdown",
   "id": "cab3fe4c",
   "metadata": {},
   "source": [
    "## 🧪 Example Usage"
   ]
  },
  {
   "cell_type": "code",
   "execution_count": 5,
   "id": "dd9a8b95",
   "metadata": {},
   "outputs": [
    {
     "name": "stdout",
     "output_type": "stream",
     "text": [
      "Output:\n",
      "L1 Penalty: 0.047\n",
      "L2 Penalty: 0.1069\n"
     ]
    }
   ],
   "source": [
    "weights = np.array([0.5, -1.2, 0.0, 3.0])\n",
    "lambda_ = 0.01\n",
    "\n",
    "l1_penalty = l1_regularization(weights, lambda_)\n",
    "l2_penalty = l2_regularization(weights, lambda_)\n",
    "\n",
    "print(\"Output:\")\n",
    "print(\"L1 Penalty:\", l1_penalty)\n",
    "print(\"L2 Penalty:\", l2_penalty)"
   ]
  },
  {
   "cell_type": "markdown",
   "id": "e7faa046",
   "metadata": {},
   "source": [
    "## 💡 How to Use in Loss Function"
   ]
  },
  {
   "cell_type": "code",
   "execution_count": 6,
   "id": "6ed721de",
   "metadata": {},
   "outputs": [],
   "source": [
    "def total_loss(data_loss, weights, lambda_, reg_type=\"l2\"):\n",
    "    if reg_type == \"l1\":\n",
    "        reg_loss = l1_regularization(weights, lambda_)\n",
    "    elif reg_type == \"l2\":\n",
    "        reg_loss = l2_regularization(weights, lambda_)\n",
    "    else:\n",
    "        raise ValueError(\"reg_type must be 'l1' or 'l2'\")\n",
    "    \n",
    "    return data_loss + reg_loss"
   ]
  }
 ],
 "metadata": {
  "kernelspec": {
   "display_name": "Python 3",
   "language": "python",
   "name": "python3"
  },
  "language_info": {
   "codemirror_mode": {
    "name": "ipython",
    "version": 3
   },
   "file_extension": ".py",
   "mimetype": "text/x-python",
   "name": "python",
   "nbconvert_exporter": "python",
   "pygments_lexer": "ipython3",
   "version": "3.11.9"
  }
 },
 "nbformat": 4,
 "nbformat_minor": 5
}
