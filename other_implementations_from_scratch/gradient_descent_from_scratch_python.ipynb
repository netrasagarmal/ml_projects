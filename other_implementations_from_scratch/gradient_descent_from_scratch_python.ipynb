{
 "cells": [
  {
   "cell_type": "markdown",
   "id": "23f75377",
   "metadata": {},
   "source": [
    "## 📚 Gradient Descent: What is it?\n",
    "\n",
    "Gradient Descent is an optimization algorithm that minimizes a loss function by iteratively updating model parameters in the opposite direction of the gradient:\n",
    "\n",
    "$$\n",
    "\\theta = \\theta - \\eta \\cdot \\nabla_{\\theta} J(\\theta)\n",
    "$$\n",
    "\n",
    "Where:\n",
    "\n",
    "* $\\theta$: model parameters (e.g., weights, bias)\n",
    "* $\\eta$: learning rate\n",
    "* $\\nabla_{\\theta} J(\\theta)$: gradient of the loss function with respect to $\\theta$\n",
    "\n",
    "---\n",
    "\n",
    "## ✅ Example: Gradient Descent for Linear Regression\n",
    "\n",
    "### 🔹 Problem:\n",
    "\n",
    "Fit a line $y = wx + b$ to some data points using gradient descent.\n",
    "\n",
    "---\n",
    "\n",
    "### 🧱 Step-by-Step Implementation"
   ]
  },
  {
   "cell_type": "code",
   "execution_count": 1,
   "id": "402b0013",
   "metadata": {},
   "outputs": [
    {
     "name": "stdout",
     "output_type": "stream",
     "text": [
      "Epoch 0: Loss = 44.0000, w = 0.4400, b = 0.1200\n",
      "Epoch 2: Loss = 14.9735, w = 1.0326, b = 0.2804\n",
      "Epoch 4: Loss = 5.1157, w = 1.3783, b = 0.3725\n",
      "Epoch 6: Loss = 1.7676, w = 1.5802, b = 0.4247\n",
      "Epoch 8: Loss = 0.6302, w = 1.6982, b = 0.4538\n"
     ]
    }
   ],
   "source": [
    "import numpy as np\n",
    "\n",
    "# 1. Generate dummy data\n",
    "X = np.array([1, 2, 3, 4, 5])\n",
    "y = np.array([2, 4, 6, 8, 10])  # true function is y = 2x\n",
    "\n",
    "# 2. Initialize weights\n",
    "w = 0.0\n",
    "b = 0.0\n",
    "\n",
    "# 3. Set hyperparameters\n",
    "learning_rate = 0.01\n",
    "epochs = 10\n",
    "\n",
    "# 4. Gradient Descent Loop\n",
    "for epoch in range(epochs):\n",
    "    # Forward pass: compute prediction\n",
    "    y_pred = w * X + b\n",
    "    \n",
    "    # Compute loss (MSE)\n",
    "    loss = np.mean((y - y_pred) ** 2)\n",
    "    \n",
    "    # Compute gradients\n",
    "    dw = -2 * np.mean((y - y_pred) * X)\n",
    "    db = -2 * np.mean(y - y_pred)\n",
    "    \n",
    "    # Update weights\n",
    "    w -= learning_rate * dw\n",
    "    b -= learning_rate * db\n",
    "\n",
    "    # Print every 2 epochs\n",
    "    if epoch % 2 == 0:\n",
    "        print(f\"Epoch {epoch}: Loss = {loss:.4f}, w = {w:.4f}, b = {b:.4f}\")"
   ]
  }
 ],
 "metadata": {
  "kernelspec": {
   "display_name": "Python 3",
   "language": "python",
   "name": "python3"
  },
  "language_info": {
   "codemirror_mode": {
    "name": "ipython",
    "version": 3
   },
   "file_extension": ".py",
   "mimetype": "text/x-python",
   "name": "python",
   "nbconvert_exporter": "python",
   "pygments_lexer": "ipython3",
   "version": "3.11.9"
  }
 },
 "nbformat": 4,
 "nbformat_minor": 5
}
