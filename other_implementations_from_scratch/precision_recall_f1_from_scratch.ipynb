{
 "cells": [
  {
   "cell_type": "markdown",
   "id": "d07ccbb9",
   "metadata": {},
   "source": [
    "### **Precision**, **Recall**, and **F1 Score** from scratch in Python (without using any external libraries like `sklearn`)\n",
    "\n",
    "* `1` represents the positive class\n",
    "* `0` represents the negative class\n",
    "\n",
    "---\n",
    "\n",
    "### Definitions\n",
    "\n",
    "Let’s recall the formulas first:\n",
    "\n",
    "* **True Positive (TP)**: Model predicts 1, actual is 1\n",
    "* **False Positive (FP)**: Model predicts 1, actual is 0\n",
    "* **False Negative (FN)**: Model predicts 0, actual is 1\n",
    "\n",
    "---\n",
    "\n",
    "### Precision\n",
    "\n",
    "$$\n",
    "\\text{Precision} = \\frac{TP}{TP + FP}\n",
    "$$\n",
    "\n",
    "How many of the predicted positives were actually positive?\n",
    "\n",
    "---\n",
    "\n",
    "### Recall (Sensitivity)\n",
    "\n",
    "$$\n",
    "\\text{Recall} = \\frac{TP}{TP + FN}\n",
    "$$\n",
    "\n",
    "How many of the actual positives were correctly predicted?\n",
    "\n",
    "---\n",
    "\n",
    "### F1 Score\n",
    "\n",
    "$$\n",
    "\\text{F1 Score} = \\frac{2 \\cdot \\text{Precision} \\cdot \\text{Recall}}{\\text{Precision} + \\text{Recall}}\n",
    "$$\n",
    "\n",
    "Harmonic mean of precision and recall — balances both.\n",
    "\n",
    "---\n",
    "\n",
    "### From-Scratch Implementation"
   ]
  },
  {
   "cell_type": "code",
   "execution_count": 2,
   "id": "ae4ce934",
   "metadata": {},
   "outputs": [],
   "source": [
    "def precision_recall_f1(y_true, y_pred):\n",
    "    assert len(y_true) == len(y_pred), \"Input vectors must be the same length\"\n",
    "\n",
    "    TP = FP = FN = 0\n",
    "\n",
    "    for yt, yp in zip(y_true, y_pred):\n",
    "        if yp == 1 and yt == 1:\n",
    "            TP += 1\n",
    "        elif yp == 1 and yt == 0:\n",
    "            FP += 1\n",
    "        elif yp == 0 and yt == 1:\n",
    "            FN += 1\n",
    "\n",
    "    # Avoid division by zero\n",
    "    precision = TP / (TP + FP) if (TP + FP) > 0 else 0.0\n",
    "    recall    = TP / (TP + FN) if (TP + FN) > 0 else 0.0\n",
    "    f1_score  = (2 * precision * recall / (precision + recall)) if (precision + recall) > 0 else 0.0\n",
    "\n",
    "    return precision, recall, f1_score"
   ]
  },
  {
   "cell_type": "markdown",
   "id": "66023505",
   "metadata": {},
   "source": [
    "### Example Usage"
   ]
  },
  {
   "cell_type": "code",
   "execution_count": 3,
   "id": "1178fb1f",
   "metadata": {},
   "outputs": [
    {
     "name": "stdout",
     "output_type": "stream",
     "text": [
      "Precision: 0.800\n",
      "Recall:    0.800\n",
      "F1 Score:  0.800\n"
     ]
    }
   ],
   "source": [
    "y_true = [1, 0, 1, 1, 0, 1, 0, 0, 1, 0]  # ground truth\n",
    "y_pred = [1, 0, 1, 0, 0, 1, 1, 0, 1, 0]  # predicted by model\n",
    "\n",
    "precision, recall, f1 = precision_recall_f1(y_true, y_pred)\n",
    "\n",
    "print(f\"Precision: {precision:.3f}\")\n",
    "print(f\"Recall:    {recall:.3f}\")\n",
    "print(f\"F1 Score:  {f1:.3f}\")"
   ]
  },
  {
   "cell_type": "markdown",
   "id": "875ac961",
   "metadata": {},
   "source": [
    "### Output (for the example above)\n",
    "\n",
    "```text\n",
    "Precision: 0.800\n",
    "Recall:    0.800\n",
    "F1 Score:  0.800\n",
    "```\n",
    "\n",
    "---\n",
    "\n",
    "### Notes\n",
    "\n",
    "* This implementation is for **binary classification** (0/1 labels).\n",
    "* For **multiclass classification**, you'd extend this using **macro, micro, or weighted averaging** by computing per-class TP, FP, FN.\n",
    "* Always confirm labels are binary (`0` or `1`) — otherwise logic may need adjustments."
   ]
  }
 ],
 "metadata": {
  "kernelspec": {
   "display_name": "Python 3",
   "language": "python",
   "name": "python3"
  },
  "language_info": {
   "codemirror_mode": {
    "name": "ipython",
    "version": 3
   },
   "file_extension": ".py",
   "mimetype": "text/x-python",
   "name": "python",
   "nbconvert_exporter": "python",
   "pygments_lexer": "ipython3",
   "version": "3.11.9"
  }
 },
 "nbformat": 4,
 "nbformat_minor": 5
}
