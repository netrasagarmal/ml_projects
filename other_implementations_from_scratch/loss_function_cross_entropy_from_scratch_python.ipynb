{
 "cells": [
  {
   "cell_type": "markdown",
   "id": "c5506289",
   "metadata": {},
   "source": [
    "### **Cross-Entropy Loss from scratch** in a **PyTorch-like way**:\n",
    "\n",
    "1. Use **pure Python with PyTorch tensors**.\n",
    "2. Support both **manual formula-based computation** and optional extension via `torch.autograd.Function` if you want full control over gradients.\n",
    "\n",
    "---\n",
    "\n",
    "## Cross-Entropy Loss – Quick Recap\n",
    "\n",
    "For binary classification:\n",
    "\n",
    "$$\n",
    "\\mathcal{L} = -[y \\cdot \\log(p) + (1 - y) \\cdot \\log(1 - p)]\n",
    "$$\n",
    "\n",
    "For multi-class classification (with softmax):\n",
    "\n",
    "$$\n",
    "\\mathcal{L} = -\\sum_{i} y_i \\cdot \\log(p_i)\n",
    "$$\n",
    "\n",
    "Where:\n",
    "\n",
    "* $y_i$: one-hot encoded label\n",
    "* $p_i$: predicted probability for class $i$\n",
    "\n",
    "---\n",
    "\n",
    "## ✅ 1. Cross-Entropy Loss (Multi-Class) – Manual Implementation\n",
    "\n",
    "We assume:\n",
    "\n",
    "* `inputs` = logits (raw outputs, shape `[batch_size, num_classes]`)\n",
    "* `targets` = class indices (e.g., `[2, 0, 1]`)\n",
    "\n",
    "### 📦 Implementation"
   ]
  },
  {
   "cell_type": "code",
   "execution_count": 1,
   "id": "6552ef24",
   "metadata": {},
   "outputs": [],
   "source": [
    "import torch\n",
    "import torch.nn as nn\n",
    "\n",
    "class MyCrossEntropyLoss(nn.Module):\n",
    "    def __init__(self):\n",
    "        super(MyCrossEntropyLoss, self).__init__()\n",
    "\n",
    "    def forward(self, logits, targets):\n",
    "        # logits: [batch_size, num_classes]\n",
    "        # targets: [batch_size], with class indices (not one-hot)\n",
    "        \n",
    "        # Step 1: Apply softmax to get probabilities\n",
    "        probs = torch.softmax(logits, dim=1)\n",
    "        \n",
    "        # Step 2: Get the log of probabilities for the correct class\n",
    "        batch_size = logits.shape[0]\n",
    "        log_probs = torch.log(probs[range(batch_size), targets])\n",
    "        \n",
    "        # Step 3: Compute negative log likelihood\n",
    "        loss = -torch.mean(log_probs)\n",
    "        \n",
    "        return loss"
   ]
  },
  {
   "cell_type": "markdown",
   "id": "24462623",
   "metadata": {},
   "source": [
    "### Example Usage"
   ]
  },
  {
   "cell_type": "code",
   "execution_count": 2,
   "id": "024e4266",
   "metadata": {},
   "outputs": [
    {
     "name": "stdout",
     "output_type": "stream",
     "text": [
      "Cross-Entropy Loss: 0.3185397684574127\n"
     ]
    }
   ],
   "source": [
    "logits = torch.tensor([[2.0, 1.0, 0.1], \n",
    "                       [0.5, 2.5, 0.3]], requires_grad=True)  # shape [2, 3]\n",
    "\n",
    "targets = torch.tensor([0, 1])  # Ground-truth class indices\n",
    "\n",
    "criterion = MyCrossEntropyLoss()\n",
    "loss = criterion(logits, targets)\n",
    "\n",
    "print(\"Cross-Entropy Loss:\", loss.item())  # Scalar"
   ]
  },
  {
   "cell_type": "markdown",
   "id": "6ae3953c",
   "metadata": {},
   "source": [
    "## Notes:\n",
    "* This mimics `nn.CrossEntropyLoss`, which **combines `LogSoftmax + NLLLoss`**.\n",
    "* `torch.autograd` will handle the backward pass since we used PyTorch operations.\n",
    "* You can call `loss.backward()` to get gradients with respect to logits.\n",
    "\n",
    "---\n",
    "\n",
    "## 🧠 Bonus: Binary Cross-Entropy (BCE) Version\n",
    "\n",
    "For binary classification with sigmoid:"
   ]
  },
  {
   "cell_type": "code",
   "execution_count": 3,
   "id": "dec91b94",
   "metadata": {},
   "outputs": [],
   "source": [
    "class MyBinaryCrossEntropyLoss(nn.Module):\n",
    "    def __init__(self):\n",
    "        super(MyBinaryCrossEntropyLoss, self).__init__()\n",
    "\n",
    "    def forward(self, logits, targets):\n",
    "        # logits: raw outputs [batch_size]\n",
    "        # targets: [batch_size] with 0 or 1\n",
    "\n",
    "        probs = torch.sigmoid(logits)\n",
    "        loss = - (targets * torch.log(probs + 1e-8) + (1 - targets) * torch.log(1 - probs + 1e-8))\n",
    "        return torch.mean(loss)"
   ]
  }
 ],
 "metadata": {
  "kernelspec": {
   "display_name": "Python 3",
   "language": "python",
   "name": "python3"
  },
  "language_info": {
   "codemirror_mode": {
    "name": "ipython",
    "version": 3
   },
   "file_extension": ".py",
   "mimetype": "text/x-python",
   "name": "python",
   "nbconvert_exporter": "python",
   "pygments_lexer": "ipython3",
   "version": "3.11.9"
  }
 },
 "nbformat": 4,
 "nbformat_minor": 5
}
