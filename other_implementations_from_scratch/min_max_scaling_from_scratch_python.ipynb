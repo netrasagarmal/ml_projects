{
 "cells": [
  {
   "cell_type": "markdown",
   "id": "2a7df190",
   "metadata": {},
   "source": [
    "## 📘 What is Min-Max Scaling?\n",
    "\n",
    "Min-Max scaling (also called normalization) transforms features to a fixed range, usually $[0, 1]$:\n",
    "\n",
    "$$\n",
    "x_{\\text{scaled}} = \\frac{x - x_{\\min}}{x_{\\max} - x_{\\min}}\n",
    "$$\n",
    "\n",
    "---\n",
    "\n",
    "## ✅ NumPy Implementation (Plain Functions)"
   ]
  },
  {
   "cell_type": "code",
   "execution_count": 1,
   "id": "c09deb1d",
   "metadata": {},
   "outputs": [],
   "source": [
    "import numpy as np\n",
    "\n",
    "def min_max_scale(data, feature_range=(0, 1)):\n",
    "    \"\"\"\n",
    "    Apply min-max scaling to a 2D NumPy array.\n",
    "\n",
    "    Parameters:\n",
    "        data (ndarray): Input data of shape (n_samples, n_features)\n",
    "        feature_range (tuple): Desired range of transformed data (min, max)\n",
    "\n",
    "    Returns:\n",
    "        scaled_data (ndarray): Min-max scaled data\n",
    "    \"\"\"\n",
    "    min_val = np.min(data, axis=0)  # column-wise min\n",
    "    max_val = np.max(data, axis=0)  # column-wise max\n",
    "\n",
    "    scale = (feature_range[1] - feature_range[0]) / (max_val - min_val + 1e-8)\n",
    "    scaled_data = (data - min_val) * scale + feature_range[0]\n",
    "\n",
    "    return scaled_data"
   ]
  },
  {
   "cell_type": "markdown",
   "id": "0870f783",
   "metadata": {},
   "source": [
    "## 🧪 Example"
   ]
  },
  {
   "cell_type": "code",
   "execution_count": 2,
   "id": "dfffbeb3",
   "metadata": {},
   "outputs": [
    {
     "name": "stdout",
     "output_type": "stream",
     "text": [
      "Output:\n",
      "\n",
      " Scaled Data:\n",
      " [[0.  0. ]\n",
      " [1.  1. ]\n",
      " [0.5 0.5]]\n"
     ]
    }
   ],
   "source": [
    "data = np.array([\n",
    "    [10, 200],\n",
    "    [20, 400],\n",
    "    [15, 300]\n",
    "])\n",
    "\n",
    "scaled = min_max_scale(data)\n",
    "\n",
    "print(\"Output:\")\n",
    "print(\"\\n Scaled Data:\\n\", scaled)"
   ]
  },
  {
   "cell_type": "markdown",
   "id": "b95d8459",
   "metadata": {},
   "source": [
    "## 🧠 Notes\n",
    "\n",
    "* The function handles **feature-wise (column-wise) scaling**, which is typical in ML.\n",
    "* We add `1e-8` to the denominator to avoid divide-by-zero.\n",
    "* You can scale to any range (e.g., `(-1, 1)`) by changing `feature_range`."
   ]
  }
 ],
 "metadata": {
  "kernelspec": {
   "display_name": "Python 3",
   "language": "python",
   "name": "python3"
  },
  "language_info": {
   "codemirror_mode": {
    "name": "ipython",
    "version": 3
   },
   "file_extension": ".py",
   "mimetype": "text/x-python",
   "name": "python",
   "nbconvert_exporter": "python",
   "pygments_lexer": "ipython3",
   "version": "3.11.9"
  }
 },
 "nbformat": 4,
 "nbformat_minor": 5
}
